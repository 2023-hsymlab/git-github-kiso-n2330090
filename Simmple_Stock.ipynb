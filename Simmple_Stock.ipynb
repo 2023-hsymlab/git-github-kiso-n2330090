{
 "cells": [
  {
   "cell_type": "code",
   "execution_count": 2,
   "metadata": {
    "id": "iu7dBOESS_HT"
   },
   "outputs": [],
   "source": [
    "# SoftBank Stock data from Stooq.com \n",
    "# reference https://seanmemo.com/234/\n",
    "\n",
    "from pandas_datareader import data\n",
    "start = '2023-04-01'\n",
    "end = '2023-04-18'\n",
    "#9984:ソフトバンク\n",
    "#df = data.DataReader('9984.JP', 'stooq', start, end)\n",
    "#7832:バンナム\n",
    "df = data.DataReader('7832.JP', 'stooq', start, end)\n"
   ]
  },
  {
   "cell_type": "code",
   "execution_count": 3,
   "metadata": {
    "colab": {
     "base_uri": "https://localhost:8080/",
     "height": 457
    },
    "id": "X1ZMmhe8VDaN",
    "outputId": "fa695465-feac-4e03-8274-1b89331761a6"
   },
   "outputs": [
    {
     "data": {
      "text/html": [
       "<div>\n",
       "<style scoped>\n",
       "    .dataframe tbody tr th:only-of-type {\n",
       "        vertical-align: middle;\n",
       "    }\n",
       "\n",
       "    .dataframe tbody tr th {\n",
       "        vertical-align: top;\n",
       "    }\n",
       "\n",
       "    .dataframe thead th {\n",
       "        text-align: right;\n",
       "    }\n",
       "</style>\n",
       "<table border=\"1\" class=\"dataframe\">\n",
       "  <thead>\n",
       "    <tr style=\"text-align: right;\">\n",
       "      <th></th>\n",
       "      <th>Open</th>\n",
       "      <th>High</th>\n",
       "      <th>Low</th>\n",
       "      <th>Close</th>\n",
       "      <th>Volume</th>\n",
       "    </tr>\n",
       "    <tr>\n",
       "      <th>Date</th>\n",
       "      <th></th>\n",
       "      <th></th>\n",
       "      <th></th>\n",
       "      <th></th>\n",
       "      <th></th>\n",
       "    </tr>\n",
       "  </thead>\n",
       "  <tbody>\n",
       "    <tr>\n",
       "      <th>2023-04-18</th>\n",
       "      <td>2971.0</td>\n",
       "      <td>3029.0</td>\n",
       "      <td>2952.5</td>\n",
       "      <td>3024.0</td>\n",
       "      <td>2615200</td>\n",
       "    </tr>\n",
       "    <tr>\n",
       "      <th>2023-04-17</th>\n",
       "      <td>2973.5</td>\n",
       "      <td>2976.0</td>\n",
       "      <td>2937.0</td>\n",
       "      <td>2961.0</td>\n",
       "      <td>1562000</td>\n",
       "    </tr>\n",
       "    <tr>\n",
       "      <th>2023-04-14</th>\n",
       "      <td>2949.0</td>\n",
       "      <td>2961.5</td>\n",
       "      <td>2927.0</td>\n",
       "      <td>2961.5</td>\n",
       "      <td>2957600</td>\n",
       "    </tr>\n",
       "    <tr>\n",
       "      <th>2023-04-13</th>\n",
       "      <td>2900.0</td>\n",
       "      <td>2928.5</td>\n",
       "      <td>2900.0</td>\n",
       "      <td>2928.5</td>\n",
       "      <td>1647300</td>\n",
       "    </tr>\n",
       "    <tr>\n",
       "      <th>2023-04-12</th>\n",
       "      <td>2897.5</td>\n",
       "      <td>2919.5</td>\n",
       "      <td>2884.5</td>\n",
       "      <td>2914.5</td>\n",
       "      <td>1490800</td>\n",
       "    </tr>\n",
       "    <tr>\n",
       "      <th>2023-04-11</th>\n",
       "      <td>2904.5</td>\n",
       "      <td>2919.0</td>\n",
       "      <td>2881.5</td>\n",
       "      <td>2890.0</td>\n",
       "      <td>1600800</td>\n",
       "    </tr>\n",
       "    <tr>\n",
       "      <th>2023-04-10</th>\n",
       "      <td>2872.5</td>\n",
       "      <td>2911.0</td>\n",
       "      <td>2870.5</td>\n",
       "      <td>2898.5</td>\n",
       "      <td>1454900</td>\n",
       "    </tr>\n",
       "    <tr>\n",
       "      <th>2023-04-07</th>\n",
       "      <td>2871.5</td>\n",
       "      <td>2871.5</td>\n",
       "      <td>2833.0</td>\n",
       "      <td>2840.5</td>\n",
       "      <td>1374800</td>\n",
       "    </tr>\n",
       "    <tr>\n",
       "      <th>2023-04-06</th>\n",
       "      <td>2880.0</td>\n",
       "      <td>2888.0</td>\n",
       "      <td>2861.0</td>\n",
       "      <td>2876.5</td>\n",
       "      <td>1964600</td>\n",
       "    </tr>\n",
       "    <tr>\n",
       "      <th>2023-04-05</th>\n",
       "      <td>2897.5</td>\n",
       "      <td>2915.0</td>\n",
       "      <td>2864.5</td>\n",
       "      <td>2874.0</td>\n",
       "      <td>2264100</td>\n",
       "    </tr>\n",
       "    <tr>\n",
       "      <th>2023-04-04</th>\n",
       "      <td>2888.0</td>\n",
       "      <td>2917.0</td>\n",
       "      <td>2876.0</td>\n",
       "      <td>2909.0</td>\n",
       "      <td>1979500</td>\n",
       "    </tr>\n",
       "    <tr>\n",
       "      <th>2023-04-03</th>\n",
       "      <td>2910.0</td>\n",
       "      <td>2934.0</td>\n",
       "      <td>2900.0</td>\n",
       "      <td>2910.0</td>\n",
       "      <td>2508600</td>\n",
       "    </tr>\n",
       "  </tbody>\n",
       "</table>\n",
       "</div>"
      ],
      "text/plain": [
       "              Open    High     Low   Close   Volume\n",
       "Date                                               \n",
       "2023-04-18  2971.0  3029.0  2952.5  3024.0  2615200\n",
       "2023-04-17  2973.5  2976.0  2937.0  2961.0  1562000\n",
       "2023-04-14  2949.0  2961.5  2927.0  2961.5  2957600\n",
       "2023-04-13  2900.0  2928.5  2900.0  2928.5  1647300\n",
       "2023-04-12  2897.5  2919.5  2884.5  2914.5  1490800\n",
       "2023-04-11  2904.5  2919.0  2881.5  2890.0  1600800\n",
       "2023-04-10  2872.5  2911.0  2870.5  2898.5  1454900\n",
       "2023-04-07  2871.5  2871.5  2833.0  2840.5  1374800\n",
       "2023-04-06  2880.0  2888.0  2861.0  2876.5  1964600\n",
       "2023-04-05  2897.5  2915.0  2864.5  2874.0  2264100\n",
       "2023-04-04  2888.0  2917.0  2876.0  2909.0  1979500\n",
       "2023-04-03  2910.0  2934.0  2900.0  2910.0  2508600"
      ]
     },
     "execution_count": 3,
     "metadata": {},
     "output_type": "execute_result"
    }
   ],
   "source": [
    "df"
   ]
  },
  {
   "cell_type": "code",
   "execution_count": 4,
   "metadata": {
    "id": "zi-sVhz0W-Qj"
   },
   "outputs": [
    {
     "name": "stdout",
     "output_type": "stream",
     "text": [
      "<class 'pandas.core.frame.DataFrame'>\n"
     ]
    }
   ],
   "source": [
    "print(type(df))"
   ]
  },
  {
   "cell_type": "code",
   "execution_count": null,
   "metadata": {},
   "outputs": [],
   "source": []
  }
 ],
 "metadata": {
  "colab": {
   "provenance": []
  },
  "kernelspec": {
   "display_name": "Python 3 (ipykernel)",
   "language": "python",
   "name": "python3"
  },
  "language_info": {
   "codemirror_mode": {
    "name": "ipython",
    "version": 3
   },
   "file_extension": ".py",
   "mimetype": "text/x-python",
   "name": "python",
   "nbconvert_exporter": "python",
   "pygments_lexer": "ipython3",
   "version": "3.8.16"
  }
 },
 "nbformat": 4,
 "nbformat_minor": 4
}
